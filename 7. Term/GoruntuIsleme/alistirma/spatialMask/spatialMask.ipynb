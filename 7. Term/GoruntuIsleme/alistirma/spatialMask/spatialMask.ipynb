{
 "cells": [
  {
   "cell_type": "code",
   "execution_count": 23,
   "metadata": {},
   "outputs": [
    {
     "name": "stdout",
     "output_type": "stream",
     "text": [
      "2.0\n"
     ]
    }
   ],
   "source": [
    "import numpy as np\n",
    "import matplotlib.pyplot as plt\n",
    "import math\n",
    "\n",
    "im1=[[1,0],[0,0]]\n",
    "im2=[[0,1],[0,0]]\n",
    "im3=[[0,0],[1,0]]\n",
    "im4=[[0,0],[0,1]]\n",
    "\n",
    "em1=[[0,1],[1,1]]\n",
    "em2=[[1,0],[1,1]]\n",
    "em3=[[1,1],[0,1]]\n",
    "em4=[[1,1],[1,0]]\n",
    "\n",
    "im1 = [im1, im2, im3, im4]\n",
    "em1 = [em1, em2, em3, em4]\n",
    "\n",
    "def rgbToBW(img, threshold = 120):\n",
    "    bw = np.zeros((img.shape[0], img.shape[1]), dtype=np.uint8)\n",
    "    for i in range(img.shape[0]):\n",
    "        for j in range(img.shape[1]):\n",
    "            if(sum(img[i,j,:])/3 > threshold):\n",
    "                bw[i,j] = 1\n",
    "            else:\n",
    "                bw[i,j] = 0\n",
    "    return bw\n",
    "\n",
    "def count_internal_mask(image):\n",
    "    counter_internal = 0\n",
    "    for mask in im1:\n",
    "        counter_internal = counter_internal + count_mask(image, mask)\n",
    "    return counter_internal\n",
    "\n",
    "def count_external_mask(image):\n",
    "    counter_external = 0\n",
    "    for mask in em1:\n",
    "        counter_external = counter_external + count_mask(image, mask)\n",
    "    return counter_external\n",
    "\n",
    "def count_mask(image, mask):\n",
    "    counter = 0\n",
    "    m = img1.shape[0]\n",
    "    n = img1.shape[1]\n",
    "    for i in range(m-1):\n",
    "        for j in range(n-1):\n",
    "            a = b = c = d = False\n",
    "            if(img1[i,j][0] == mask[0][0]):\n",
    "                a = True\n",
    "            if (img1[i,j+1][0] == mask[0][1]):\n",
    "                b = True\n",
    "            if (img1[i+1,j][0] == mask[1][0]):\n",
    "                c = True\n",
    "            if (img1[i+1,j+1][0] == mask[1][1]):\n",
    "                d = True\n",
    "            if (a and b and c and d):\n",
    "                counter = counter + 1\n",
    "    return counter\n",
    "\n",
    "\n",
    "img1 = plt.imread(\"tt.jpg\")\n",
    "img2 = rgbToBW(img1)\n",
    "\n",
    "c1 = count_internal_mask(img2)\n",
    "c2 = count_external_mask(img2)\n",
    "\n",
    "numberOfObjects = math.fabs((c2-c1)/4)\n",
    "print (numberOfObjects)"
   ]
  },
  {
   "cell_type": "code",
   "execution_count": null,
   "metadata": {},
   "outputs": [],
   "source": []
  },
  {
   "cell_type": "code",
   "execution_count": null,
   "metadata": {},
   "outputs": [],
   "source": []
  }
 ],
 "metadata": {
  "kernelspec": {
   "display_name": "Python 2",
   "language": "python",
   "name": "python2"
  },
  "language_info": {
   "codemirror_mode": {
    "name": "ipython",
    "version": 2
   },
   "file_extension": ".py",
   "mimetype": "text/x-python",
   "name": "python",
   "nbconvert_exporter": "python",
   "pygments_lexer": "ipython2",
   "version": "2.7.12"
  }
 },
 "nbformat": 4,
 "nbformat_minor": 2
}
